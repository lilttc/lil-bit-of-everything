{
 "cells": [
  {
   "cell_type": "markdown",
   "metadata": {},
   "source": [
    "World population data cleaning and import"
   ]
  },
  {
   "cell_type": "code",
   "execution_count": 206,
   "metadata": {},
   "outputs": [
    {
     "name": "stdout",
     "output_type": "stream",
     "text": [
      "  Country Name Country Code     Indicator Name Indicator Code       1960  \\\n",
      "0        Aruba          ABW  Population, total    SP.POP.TOTL    54211.0   \n",
      "1  Afghanistan          AFG  Population, total    SP.POP.TOTL  8996351.0   \n",
      "2       Angola          AGO  Population, total    SP.POP.TOTL  5643182.0   \n",
      "3      Albania          ALB  Population, total    SP.POP.TOTL  1608800.0   \n",
      "4      Andorra          AND  Population, total    SP.POP.TOTL    13411.0   \n",
      "\n",
      "        1961       1962       1963       1964       1965  ...        2010  \\\n",
      "0    55438.0    56225.0    56695.0    57032.0    57360.0  ...    101669.0   \n",
      "1  9166764.0  9345868.0  9533954.0  9731361.0  9938414.0  ...  28803167.0   \n",
      "2  5753024.0  5866061.0  5980417.0  6093321.0  6203299.0  ...  23369131.0   \n",
      "3  1659800.0  1711319.0  1762621.0  1814135.0  1864791.0  ...   2913021.0   \n",
      "4    14375.0    15370.0    16412.0    17469.0    18549.0  ...     84449.0   \n",
      "\n",
      "         2011        2012        2013        2014        2015        2016  \\\n",
      "0    102053.0    102577.0    103187.0    103795.0    104341.0    104822.0   \n",
      "1  29708599.0  30696958.0  31731688.0  32758020.0  33736494.0  34656032.0   \n",
      "2  24218565.0  25096150.0  25998340.0  26920466.0  27859305.0  28813463.0   \n",
      "3   2905195.0   2900401.0   2895092.0   2889104.0   2880703.0   2876101.0   \n",
      "4     83751.0     82431.0     80788.0     79223.0     78014.0     77281.0   \n",
      "\n",
      "         2017  2018  Unnamed: 63  \n",
      "0    105264.0   NaN          NaN  \n",
      "1  35530081.0   NaN          NaN  \n",
      "2  29784193.0   NaN          NaN  \n",
      "3   2873457.0   NaN          NaN  \n",
      "4     76965.0   NaN          NaN  \n",
      "\n",
      "[5 rows x 64 columns]\n"
     ]
    }
   ],
   "source": [
    "import pandas as pd\n",
    "import numpy as np\n",
    "import sys\n",
    "world_population=pd.read_csv('Data/world_population.csv')\n",
    "print(world_population.head(5))"
   ]
  },
  {
   "cell_type": "markdown",
   "metadata": {},
   "source": [
    "Unstacking year data"
   ]
  },
  {
   "cell_type": "code",
   "execution_count": 197,
   "metadata": {},
   "outputs": [],
   "source": [
    "year=['1960'\n",
    ",'1961'\n",
    ",'1962'\n",
    ",'1963'\n",
    ",'1964'\n",
    ",'1965'\n",
    ",'1966'\n",
    ",'1967'\n",
    ",'1968'\n",
    ",'1969'\n",
    ",'1970'\n",
    ",'1971'\n",
    ",'1972'\n",
    ",'1973'\n",
    ",'1974'\n",
    ",'1975'\n",
    ",'1976'\n",
    ",'1977'\n",
    ",'1978'\n",
    ",'1979'\n",
    ",'1980'\n",
    ",'1981'\n",
    ",'1982'\n",
    ",'1983'\n",
    ",'1984'\n",
    ",'1985'\n",
    ",'1986'\n",
    ",'1987'\n",
    ",'1988'\n",
    ",'1989'\n",
    ",'1990'\n",
    ",'1991'\n",
    ",'1992'\n",
    ",'1993'\n",
    ",'1994'\n",
    ",'1995'\n",
    ",'1996'\n",
    ",'1997'\n",
    ",'1998'\n",
    ",'1999'\n",
    ",'2000'\n",
    ",'2001'\n",
    ",'2002'\n",
    ",'2003'\n",
    ",'2004'\n",
    ",'2005'\n",
    ",'2006'\n",
    ",'2007'\n",
    ",'2008'\n",
    ",'2009'\n",
    ",'2010'\n",
    ",'2011'\n",
    ",'2012'\n",
    ",'2013'\n",
    ",'2014'\n",
    ",'2015'\n",
    ",'2016'\n",
    ",'2017']"
   ]
  },
  {
   "cell_type": "code",
   "execution_count": 198,
   "metadata": {},
   "outputs": [],
   "source": [
    "world_population=pd.melt(world_population, id_vars='Country Name', value_vars=year)\n"
   ]
  },
  {
   "cell_type": "code",
   "execution_count": 199,
   "metadata": {},
   "outputs": [
    {
     "name": "stdout",
     "output_type": "stream",
     "text": [
      "       country  year  population\n",
      "0        Aruba  1960     54211.0\n",
      "1  Afghanistan  1960   8996351.0\n",
      "2       Angola  1960   5643182.0\n",
      "3      Albania  1960   1608800.0\n",
      "4      Andorra  1960     13411.0\n"
     ]
    },
    {
     "data": {
      "text/plain": [
       "country        object\n",
       "year           object\n",
       "population    float64\n",
       "dtype: object"
      ]
     },
     "execution_count": 199,
     "metadata": {},
     "output_type": "execute_result"
    }
   ],
   "source": [
    "#format column names and dtypes\n",
    "world_population=world_population.rename(columns={'Country Name':'country','variable':'year','value':'population'})\n",
    "print(world_population.head(5))\n",
    "\n",
    "world_population.dtypes\n"
   ]
  },
  {
   "cell_type": "code",
   "execution_count": 200,
   "metadata": {},
   "outputs": [
    {
     "data": {
      "text/plain": [
       "country        object\n",
       "year            int64\n",
       "population    float64\n",
       "dtype: object"
      ]
     },
     "execution_count": 200,
     "metadata": {},
     "output_type": "execute_result"
    }
   ],
   "source": [
    "world_population['year']=world_population['year'].astype(int)\n",
    "\n",
    "world_population.dtypes"
   ]
  },
  {
   "cell_type": "code",
   "execution_count": 202,
   "metadata": {
    "scrolled": true
   },
   "outputs": [
    {
     "name": "stdout",
     "output_type": "stream",
     "text": [
      "country       0\n",
      "year          0\n",
      "population    0\n",
      "dtype: int64\n"
     ]
    }
   ],
   "source": [
    "#clean missing values\n",
    "world_population1=world_population.dropna(axis=0,how='any')\n",
    "print(world_population1.isnull().sum())\n"
   ]
  },
  {
   "cell_type": "code",
   "execution_count": 203,
   "metadata": {},
   "outputs": [],
   "source": [
    "world_population1.to_csv(r'Data/world_population1.csv',index=False)"
   ]
  },
  {
   "cell_type": "code",
   "execution_count": 218,
   "metadata": {
    "scrolled": true
   },
   "outputs": [],
   "source": [
    "import psycopg2\n",
    "\n",
    "conn = psycopg2.connect(database=\"TT\", user=\"tt\", password=\"123\", host=\"127.0.0.1\", port=\"5432\")\n",
    "\n",
    "cur=conn.cursor()\n",
    "q1='CREATE TABLE world_population (country varchar(60),year integer,population float8);'\n",
    "\n",
    "\n",
    "cur.execute(q1)\n",
    "conn.commit()\n",
    "conn.close()"
   ]
  },
  {
   "cell_type": "code",
   "execution_count": 219,
   "metadata": {},
   "outputs": [
    {
     "name": "stdout",
     "output_type": "stream",
     "text": [
      "Connecting to Database\n",
      "Truncated world_population\n",
      "Loaded data into world_population\n",
      "DB connection closed.\n"
     ]
    }
   ],
   "source": [
    "#This function uploads csv to a target table\n",
    " \n",
    "\n",
    "def pg_load_table(file_path, table_name, dbname, host, port, user, pwd):\n",
    "    \n",
    "    try:\n",
    "        conn = psycopg2.connect(dbname=dbname, host=host, port=port,\\\n",
    "         user=user, password=pwd)\n",
    "        print(\"Connecting to Database\")\n",
    "        cur = conn.cursor()\n",
    "        f = open(file_path, \"r\")\n",
    "        # Truncate the table first\n",
    "        cur.execute(\"Truncate {} Cascade;\".format(table_name))\n",
    "        print(\"Truncated {}\".format(table_name))\n",
    "        # Load table from the file with header\n",
    "        cur.copy_expert(\"copy {} from STDIN CSV HEADER QUOTE '\\\"'\".format(table_name), f)\n",
    "        cur.execute(\"commit;\")\n",
    "        print(\"Loaded data into {}\".format(table_name))\n",
    "        conn.close()\n",
    "        print(\"DB connection closed.\")\n",
    "\n",
    "    except Exception as e:\n",
    "        print(\"Error: {}\".format(str(e)))\n",
    "        \n",
    "\n",
    "# Execution\n",
    "file_path = 'Data/world_population1.csv'\n",
    "table_name = 'world_population'\n",
    "dbname = 'TT'\n",
    "host = '127.0.0.1'\n",
    "port = '5432'\n",
    "user = 'tt'\n",
    "pwd = '123'\n",
    "pg_load_table(file_path, table_name, dbname, host, port, user, pwd)\n"
   ]
  },
  {
   "cell_type": "code",
   "execution_count": 220,
   "metadata": {},
   "outputs": [],
   "source": [
    "conn = psycopg2.connect(database=\"TT\", user=\"tt\", password=\"123\", host=\"127.0.0.1\", port=\"5432\")\n",
    "cur=conn.cursor()\n",
    "q2='SELECT * from world_population LIMIT 5;'\n",
    "cur.execute(q2)\n",
    "x=cur.fetchall()"
   ]
  },
  {
   "cell_type": "code",
   "execution_count": 221,
   "metadata": {},
   "outputs": [
    {
     "name": "stdout",
     "output_type": "stream",
     "text": [
      "[('Aruba', 1960, 54211.0), ('Afghanistan', 1960, 8996351.0), ('Angola', 1960, 5643182.0), ('Albania', 1960, 1608800.0), ('Andorra', 1960, 13411.0)]\n"
     ]
    }
   ],
   "source": [
    "print(x)"
   ]
  }
 ],
 "metadata": {
  "kernelspec": {
   "display_name": "Python 3",
   "language": "python",
   "name": "python3"
  },
  "language_info": {
   "codemirror_mode": {
    "name": "ipython",
    "version": 3
   },
   "file_extension": ".py",
   "mimetype": "text/x-python",
   "name": "python",
   "nbconvert_exporter": "python",
   "pygments_lexer": "ipython3",
   "version": "3.7.3"
  }
 },
 "nbformat": 4,
 "nbformat_minor": 2
}
