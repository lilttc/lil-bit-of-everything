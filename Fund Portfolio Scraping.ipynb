{
 "cells": [
  {
   "cell_type": "markdown",
   "metadata": {},
   "source": [
    "Scraping startup links from fund portfolio"
   ]
  },
  {
   "cell_type": "code",
   "execution_count": 17,
   "metadata": {},
   "outputs": [
    {
     "name": "stdout",
     "output_type": "stream",
     "text": [
      "['https://www.agriconomie.com/', 'https://www.enkochem.com/', 'https://www.agriconomie.com/']\n"
     ]
    }
   ],
   "source": [
    "\n",
    "from bs4 import BeautifulSoup\n",
    "from urllib.request import urlopen\n",
    "import re\n",
    "\n",
    "def getLinks(url):\n",
    "    html_page = urlopen(url)\n",
    "    soup = BeautifulSoup(html_page)\n",
    "    links = []\n",
    "\n",
    "    for link in soup.findAll('a', attrs={'href': re.compile(\"^http\")}):\n",
    "        links.append(link.get('href'))\n",
    "    for link in soup.findAll('a', attrs={'href': re.compile(\"^www\")}):\n",
    "        links.append(link.get('href'))\n",
    "\n",
    "    return links\n",
    "\n",
    "print( getLinks(\"http://www.anterracapital.com/portfolio\") )"
   ]
  },
  {
   "cell_type": "code",
   "execution_count": null,
   "metadata": {},
   "outputs": [],
   "source": [
    "# Return company properties from the list\n",
    "\n",
    "import requests\n",
    "import json\n",
    "import urllib\n",
    "\n",
    "max_results = 500 \n",
    "hapikey = 'demo' \n",
    "limit = 5 \n",
    "properties=[\"Company Name\",\"Company ID\",\"City\",\"Country\",\"HQ Location\",\"Company Domain Name\",\"LinkedIn Bio\",\"LinkedIn Company Page\",\"Twitter Handle\"]\n",
    "company_list = []\n",
    "get_all_companies_url = \"https://api.hubapi.com/companies/v2/companies/paged?\"\n",
    "parameter_dict = {'hapikey': hapikey, 'limit': limit,'properties':properties}\n",
    "headers = {}\n",
    "\n",
    "# Paginate request using offset\n",
    "has_more = True\n",
    "while has_more:\n",
    "    parameters = urllib.urlencode(parameter_dict)\n",
    "    get_url = get_all_companies_url + parameters\n",
    "    r = requests.get(url= get_url, headers = headers)\n",
    "    response_dict = json.loads(r.text)\n",
    "    has_more = response_dict['has-more']\n",
    "    company_list.extend(response_dict['companies'])\n",
    "    parameter_dict['offset']= response_dict['offset']\n",
    "    if len(company_list) >= max_results: \n",
    "        print('maximum number of results exceeded')\n",
    "        break\n",
    " \n",
    "print('loop finished')\n",
    "\n",
    "list_length = len(company_list) \n",
    "\n",
    "print(\"You've succesfully parsed through {} company records and added them to a list\".format(list_length))\n",
    "\n"
   ]
  }
 ],
 "metadata": {
  "kernelspec": {
   "display_name": "Python 3",
   "language": "python",
   "name": "python3"
  },
  "language_info": {
   "codemirror_mode": {
    "name": "ipython",
    "version": 3
   },
   "file_extension": ".py",
   "mimetype": "text/x-python",
   "name": "python",
   "nbconvert_exporter": "python",
   "pygments_lexer": "ipython3",
   "version": "3.7.3"
  }
 },
 "nbformat": 4,
 "nbformat_minor": 2
}
